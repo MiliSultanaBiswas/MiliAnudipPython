{
 "cells": [
  {
   "cell_type": "code",
   "execution_count": 3,
   "id": "421c188d",
   "metadata": {},
   "outputs": [
    {
     "name": "stdout",
     "output_type": "stream",
     "text": [
      "original DataFrame\n",
      "  school_code class            name  age  height  weight  address\n",
      "1        s001     V  Alberto Franco   12     173      35  street1\n",
      "2        s002    VI    Gino Mcneill   12     192      32  street2\n",
      "3        s003    VI     Ryan Parkes   13     186      33  street3\n",
      "4        s001    VI    Eesha Hinton   13     167      30  street1\n",
      "5        s002     V    Gino Mcneill   14     151      31  street2\n",
      "6        s004    VI    David Parkes   12     159      32  street4\n",
      "\n",
      " \n",
      " spliting the data besed on class:\n",
      "group V\n",
      "  school_code class            name  age  height  weight  address\n",
      "1        s001     V  Alberto Franco   12     173      35  street1\n",
      "5        s002     V    Gino Mcneill   14     151      31  street2\n",
      "group VI\n",
      "  school_code class          name  age  height  weight  address\n",
      "2        s002    VI  Gino Mcneill   12     192      32  street2\n",
      "3        s003    VI   Ryan Parkes   13     186      33  street3\n",
      "4        s001    VI  Eesha Hinton   13     167      30  street1\n",
      "6        s004    VI  David Parkes   12     159      32  street4\n"
     ]
    }
   ],
   "source": [
    "import pandas as pd\n",
    "# input data frame\n",
    "pd.set_option('display.max_rows',None)\n",
    "student_data = pd.DataFrame({\n",
    "'school_code': ['s001','s002','s003','s001','s002','s004'],\n",
    "'class': ['V', 'VI', 'VI', 'VI', 'V', 'VI'],\n",
    "'name': ['Alberto Franco','Gino Mcneill','Ryan Parkes', 'Eesha Hinton', 'Gino Mcneill','David Parkes'],\n",
    "'age': [12, 12, 13, 13, 14, 12],\n",
    "'height': [173, 192, 186, 167, 151, 159],\n",
    "'weight': [35, 32, 33, 30, 31, 32],\n",
    "'address': ['street1', 'street2', 'street3', 'street1', 'street2', 'street4']},\n",
    "index=[1,2,3,4,5,6]\n",
    ")\n",
    "#display the original data frame\n",
    "print(\"original DataFrame\")\n",
    "print(student_data)\n",
    "#after grouping the data frame\n",
    "print(\"\\n \\n spliting the data besed on class:\")\n",
    "result=student_data.groupby(['class'])\n",
    "for i,group in result:\n",
    "    print(\"group\",i)\n",
    "    print(group)\n"
   ]
  },
  {
   "cell_type": "code",
   "execution_count": 13,
   "id": "f745082d",
   "metadata": {},
   "outputs": [
    {
     "name": "stdout",
     "output_type": "stream",
     "text": [
      "VI    4\n",
      "V     2\n",
      "Name: class, dtype: int64\n"
     ]
    },
    {
     "data": {
      "image/png": "[encoded data removed]",
      "text/plain": [
       "<Figure size 432x288 with 1 Axes>"
      ]
     },
     "metadata": {
      "needs_background": "light"
     },
     "output_type": "display_data"
    }
   ],
   "source": [
    "import matplotlib.pyplot as plt\n",
    "#group by class and count the number of students in each class\n",
    "class_count=student_data['class'].value_counts()\n",
    "print(class_count)\n",
    "#generate bar chart\n",
    "class_count.plot(kind='bar',color='skyblue',edgecolor='black')\n",
    "plt.xlabel('class')\n",
    "plt.ylabel('Number of students')\n",
    "plt.title('number of each class in each class')\n",
    "plt.show()  # show the chart"
   ]
  },
  {
   "cell_type": "code",
   "execution_count": null,
   "id": "d62d85ed",
   "metadata": {},
   "outputs": [],
   "source": []
  }
 ],
 "metadata": {
  "kernelspec": {
   "display_name": "Python 3 (ipykernel)",
   "language": "python",
   "name": "python3"
  },
  "language_info": {
   "codemirror_mode": {
    "name": "ipython",
    "version": 3
   },
   "file_extension": ".py",
   "mimetype": "text/x-python",
   "name": "python",
   "nbconvert_exporter": "python",
   "pygments_lexer": "ipython3",
   "version": "3.9.7"
  }
 },
 "nbformat": 4,
 "nbformat_minor": 5
}
