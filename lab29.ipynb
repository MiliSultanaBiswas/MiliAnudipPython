{
 "cells": [
  {
   "cell_type": "code",
   "execution_count": 1,
   "id": "027103f5",
   "metadata": {},
   "outputs": [],
   "source": [
    "import pandas as pd\n",
    "import numpy as np"
   ]
  },
  {
   "cell_type": "code",
   "execution_count": 6,
   "id": "a4b7467e",
   "metadata": {},
   "outputs": [],
   "source": [
    "data=pd.read_csv(\"salesdata.csv\") # read the csv file\n"
   ]
  },
  {
   "cell_type": "code",
   "execution_count": 4,
   "id": "f449a64c",
   "metadata": {},
   "outputs": [
    {
     "name": "stdout",
     "output_type": "stream",
     "text": [
      "                               Sale_amt\n",
      "Region  Manager SalesMan               \n",
      "Central Douglas John       41338.666667\n",
      "        Hermann Luis       41274.600000\n",
      "                Shelli      8424.500000\n",
      "                Sigal      41679.166667\n",
      "        Marth   Steven     14000.000000\n",
      "        Martha  Steven     61896.666667\n",
      "        Timothy David      28191.000000\n",
      "East    Douglas Karen      16068.000000\n",
      "        Martha  Alexander  29587.875000\n",
      "                Diana      18050.000000\n",
      "West    Douglas Michael    33418.000000\n",
      "        Timothy Stephen    22015.750000\n"
     ]
    }
   ],
   "source": [
    "# create the pivot table \n",
    "table=pd.pivot_table(data,index=[\"Region\",\"Manager\",\"SalesMan\"], values=\"Sale_amt\")\n",
    "\n",
    "# show the table\n",
    "print(table)"
   ]
  },
  {
   "cell_type": "code",
   "execution_count": 5,
   "id": "477ebf21",
   "metadata": {},
   "outputs": [
    {
     "name": "stdout",
     "output_type": "stream",
     "text": [
      "              Units\n",
      "Item               \n",
      "Cell Phone      278\n",
      "Desk             10\n",
      "Home Theater    722\n",
      "Television      716\n",
      "Video Games     395\n"
     ]
    }
   ],
   "source": [
    "# create pivot table of item wise unit_sold \n",
    "unit_sold=pd.pivot_table(data,index=[\"Item\"],values=\"Units\",aggfunc=np.sum)\n",
    "\n",
    "#print the table\n",
    "print(unit_sold)"
   ]
  },
  {
   "cell_type": "code",
   "execution_count": null,
   "id": "dbb2c2d5",
   "metadata": {},
   "outputs": [],
   "source": []
  }
 ],
 "metadata": {
  "kernelspec": {
   "display_name": "Python 3 (ipykernel)",
   "language": "python",
   "name": "python3"
  },
  "language_info": {
   "codemirror_mode": {
    "name": "ipython",
    "version": 3
   },
   "file_extension": ".py",
   "mimetype": "text/x-python",
   "name": "python",
   "nbconvert_exporter": "python",
   "pygments_lexer": "ipython3",
   "version": "3.9.7"
  }
 },
 "nbformat": 4,
 "nbformat_minor": 5
}
